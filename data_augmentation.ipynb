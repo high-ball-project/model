{
 "cells": [
  {
   "cell_type": "code",
   "execution_count": 71,
   "id": "4b7eb574",
   "metadata": {},
   "outputs": [],
   "source": [
    "import numpy as np\n",
    "from PIL import Image\n",
    "import albumentations as A\n",
    "import os\n",
    "\n",
    "folder_path = \"./unetDataset/patch_train/\"\n",
    "mask_folder_path = './unetDataset/mask_train/'\n",
    "\n",
    "file_list=os.listdir(folder_path)\n",
    "\n",
    "## 확장자명 입력\n",
    "file_list_png=[file for file in file_list if file.endswith(\".png\")] \n",
    "\n",
    "for path in file_list_png:\n",
    "    # Load the original image andp mask\n",
    "    img = np.array(Image.open(folder_path + path))\n",
    "    mask = np.array(Image.open(mask_folder_path + path))\n",
    "\n",
    "    # Define the data augmentation pipeline\n",
    "    transform = A.Compose([\n",
    "        A.HorizontalFlip(p=0.5),\n",
    "        A.VerticalFlip(p=0.5),\n",
    "        A.ShiftScaleRotate(p=0.5)\n",
    "    ])\n",
    "\n",
    "    # Apply the data augmentation to generate new images and masks\n",
    "    transformed = transform(image=img, mask=mask)\n",
    "    img_aug = transformed['image']\n",
    "    mask_aug = transformed['mask']\n",
    "\n",
    "    # Save the augmented images and masks\n",
    "    Image.fromarray(img_aug).save(folder_path + 'aug_' + path)\n",
    "    Image.fromarray(mask_aug).save(mask_folder_path + 'aug_' + path)"
   ]
  }
 ],
 "metadata": {
  "kernelspec": {
   "display_name": "Python 3 (ipykernel)",
   "language": "python",
   "name": "python3"
  },
  "language_info": {
   "codemirror_mode": {
    "name": "ipython",
    "version": 3
   },
   "file_extension": ".py",
   "mimetype": "text/x-python",
   "name": "python",
   "nbconvert_exporter": "python",
   "pygments_lexer": "ipython3",
   "version": "3.10.9"
  }
 },
 "nbformat": 4,
 "nbformat_minor": 5
}
