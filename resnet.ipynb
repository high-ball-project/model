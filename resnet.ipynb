{
 "cells": [
  {
   "cell_type": "code",
   "execution_count": 4,
   "id": "fd057107",
   "metadata": {},
   "outputs": [],
   "source": [
    "import tensorflow as tf\n",
    "from keras.applications.resnet_v2 import ResNet50V2"
   ]
  },
  {
   "cell_type": "code",
   "execution_count": 5,
   "id": "c089e6f7",
   "metadata": {},
   "outputs": [],
   "source": [
    "import cv2\n",
    "import numpy as np\n",
    "import scipy.ndimage as ndi\n"
   ]
  },
  {
   "cell_type": "code",
   "execution_count": 6,
   "id": "3cb6406a",
   "metadata": {},
   "outputs": [],
   "source": [
    "\n",
    "# # 이미지 로드\n",
    "# image_path = './open/train_imgs/BC_01_0001.png'  # 분할할 이미지 파일 경로\n",
    "# image = cv2.imread(image_path)\n",
    "\n",
    "# # 이미지를 LAB 색 공간으로 변환\n",
    "# lab_image = cv2.cvtColor(image, cv2.COLOR_BGR2LAB)\n",
    "\n",
    "# # A 채널 추출\n",
    "# a_channel = lab_image[:, :, 1]\n",
    "\n",
    "# # Otsu 임계값 적용\n",
    "# _, thresholded_image = cv2.threshold(a_channel, 0, 255, cv2.THRESH_BINARY + cv2.THRESH_OTSU)\n",
    "\n",
    "# # 분할 결과 출력\n",
    "# cv2.imshow('Segmentation Result', thresholded_image)\n",
    "# cv2.waitKey(0)\n",
    "# cv2.destroyAllWindows()\n"
   ]
  },
  {
   "cell_type": "code",
   "execution_count": 7,
   "id": "1318fe57",
   "metadata": {},
   "outputs": [],
   "source": [
    "# 이미지 로드\n",
    "image_path = './open/train_imgs/BC_01_0062.png'  # 분할할 이미지 파일 경로\n",
    "image = cv2.imread(image_path)"
   ]
  },
  {
   "cell_type": "code",
   "execution_count": 8,
   "id": "4cb63e5f",
   "metadata": {},
   "outputs": [],
   "source": [
    "def _get_masked_image(image):\n",
    "    lab = cv2.cvtColor(image, cv2.COLOR_BGR2LAB)\n",
    "    _, a, _ = cv2.split(lab)\n",
    "    th = cv2.threshold(\n",
    "        a, 127, 255, cv2.THRESH_BINARY_INV+cv2.THRESH_OTSU)[1]\n",
    "\n",
    "    mask = np.zeros_like(a)\n",
    "    mask[a < th] = 1\n",
    "    mask[a >= th] = 2\n",
    "    mask = ndi.binary_fill_holes(mask-1)\n",
    "\n",
    "    masked_image = np.zeros_like(image)\n",
    "    masked_image[mask == 1] = image[np.where(mask == 1)]\n",
    "    masked_image[mask == 0] = 255.\n",
    "\n",
    "    return masked_image\n",
    "def _crop_image(image):\n",
    "    for w_pos in reversed(range(image.shape[1])):\n",
    "        if (image[:, w_pos] == [255, 255, 255]).all():\n",
    "            image = np.delete(image, w_pos, 1)\n",
    "    for h_pos in reversed(range(image.shape[0])):\n",
    "        if (image[h_pos, :] == [255, 255, 255]).all():\n",
    "            image = np.delete(image, h_pos, 0)\n",
    "\n",
    "    return image"
   ]
  },
  {
   "cell_type": "code",
   "execution_count": 9,
   "id": "3ede6af6",
   "metadata": {},
   "outputs": [],
   "source": [
    "def tile_image(image, tile_size, n_tiles):\n",
    "    h, w, ch = image.shape\n",
    "\n",
    "    pad_h, pad_w = (\n",
    "        tile_size - h % tile_size) % tile_size, (tile_size - w % tile_size) % tile_size\n",
    "    padding = [[pad_h//2, pad_h-pad_h//2],\n",
    "               [pad_w//2, pad_w-pad_w//2], [0, 0]]\n",
    "    image = np.pad(image, padding, mode='constant', constant_values=255)\n",
    "\n",
    "    image = image.reshape(\n",
    "        image.shape[0]//tile_size, tile_size, image.shape[1]//tile_size, tile_size, ch)\n",
    "    tiles = image.transpose(\n",
    "        0, 2, 1, 3, 4).reshape(-1, tile_size, tile_size, ch)\n",
    "\n",
    "    if len(tiles) < n_tiles:\n",
    "        padding = [[0, n_tiles-len(tiles)], [0, 0], [0, 0], [0, 0]]\n",
    "        tiles = np.pad(tiles, padding, mode='constant', constant_values=255)\n",
    "\n",
    "    idxs = np.argsort(tiles.reshape(tiles.shape[0], -1).sum(-1))[:n_tiles]\n",
    "    tiles = tiles[idxs]\n",
    "\n",
    "    return tiles\n"
   ]
  },
  {
   "cell_type": "markdown",
   "id": "485b7de0",
   "metadata": {},
   "source": [
    "## 테스트"
   ]
  },
  {
   "cell_type": "code",
   "execution_count": 10,
   "id": "ce5e757f",
   "metadata": {},
   "outputs": [],
   "source": [
    "image1 = _get_masked_image(image)\n",
    "# scale_percent = 20\n",
    "\n",
    "# # 축소할 크기 계산\n",
    "# width = int(image1.shape[1] * scale_percent / 100)\n",
    "# height = int(image1.shape[0] * scale_percent / 100)\n",
    "\n",
    "# # 이미지 축소\n",
    "# resized_image1 = cv2.resize(image1, (width, height))\n",
    "\n",
    "# 이미지 출력\n",
    "cv2.imwrite('Resized Image1.png', image1)\n",
    "cv2.waitKey(0)\n",
    "cv2.destroyAllWindows()\n",
    "# cv2.imshow('Segmentation Result', _get_masked_image(image))\n",
    "# cv2.waitKey(0)\n",
    "# cv2.destroyAllWindows()"
   ]
  },
  {
   "cell_type": "code",
   "execution_count": 11,
   "id": "1ec13831",
   "metadata": {},
   "outputs": [],
   "source": [
    "image2 = _get_masked_image(image)\n",
    "crop_2 = _crop_image(image2)\n",
    "\n",
    "# scale_percent = 20\n",
    "\n",
    "# # 축소할 크기 계산\n",
    "# width = int(image2.shape[1] * scale_percent / 100)\n",
    "# height = int(image2.shape[0] * scale_percent / 100)\n",
    "\n",
    "# # 이미지 축소\n",
    "# resized_image2 = cv2.resize(image2, (width, height))\n",
    "\n",
    "# 이미지 출력\n",
    "cv2.imwrite('Resized Image2.png', crop_2)\n",
    "cv2.waitKey(0)\n",
    "cv2.destroyAllWindows()\n",
    "# cv2.imshow('Segmentation Result', _get_masked_image(image))\n",
    "# cv2.waitKey(0)\n",
    "# cv2.destroyAllWindows()"
   ]
  },
  {
   "cell_type": "code",
   "execution_count": 19,
   "id": "9a123286",
   "metadata": {},
   "outputs": [],
   "source": [
    "tiles = tile_image(crop_2, 224, 60)"
   ]
  },
  {
   "cell_type": "code",
   "execution_count": 20,
   "id": "d54ca644",
   "metadata": {},
   "outputs": [],
   "source": [
    "import os\n",
    "save_dir = './test_tiles'\n",
    "file_prefix = 'test_tile'\n",
    "\n",
    "# 타일 이미지 저장\n",
    "for i, tile in enumerate(tiles):\n",
    "    file_name = f'{file_prefix}{i}.png'\n",
    "    file_path = os.path.join(save_dir, file_name)\n",
    "    cv2.imwrite(file_path, tile)\n"
   ]
  },
  {
   "cell_type": "code",
   "execution_count": null,
   "id": "b6f746fa",
   "metadata": {},
   "outputs": [],
   "source": [
    "#https://github.com/lim-hyo-jeong/DACON-Breast-Cancer/blob/master/image_preprocessing.py\n",
    "#참고해서 나누고 학습 진행 후 앙상블까지 끝내보기"
   ]
  }
 ],
 "metadata": {
  "kernelspec": {
   "display_name": "test2",
   "language": "python",
   "name": "test2"
  },
  "language_info": {
   "codemirror_mode": {
    "name": "ipython",
    "version": 3
   },
   "file_extension": ".py",
   "mimetype": "text/x-python",
   "name": "python",
   "nbconvert_exporter": "python",
   "pygments_lexer": "ipython3",
   "version": "3.9.16"
  }
 },
 "nbformat": 4,
 "nbformat_minor": 5
}
